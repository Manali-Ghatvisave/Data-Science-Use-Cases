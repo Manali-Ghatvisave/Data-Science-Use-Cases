{
  "nbformat": 4,
  "nbformat_minor": 0,
  "metadata": {
    "colab": {
      "name": "LSTM_using_iris_data.ipynb",
      "provenance": [],
      "authorship_tag": "ABX9TyNe7+mgktdg3fMTTbFHUBUk",
      "include_colab_link": true
    },
    "kernelspec": {
      "name": "python3",
      "display_name": "Python 3"
    },
    "accelerator": "GPU"
  },
  "cells": [
    {
      "cell_type": "markdown",
      "metadata": {
        "id": "view-in-github",
        "colab_type": "text"
      },
      "source": [
        "<a href=\"https://colab.research.google.com/github/Manali-Ghatvisave/Data-Science-Use-Cases/blob/master/LSTM_using_iris_data.ipynb\" target=\"_parent\"><img src=\"https://colab.research.google.com/assets/colab-badge.svg\" alt=\"Open In Colab\"/></a>"
      ]
    },
    {
      "cell_type": "code",
      "metadata": {
        "id": "xppLe5fZ_ev0",
        "colab_type": "code",
        "colab": {}
      },
      "source": [
        "from __future__ import print_function"
      ],
      "execution_count": 0,
      "outputs": []
    },
    {
      "cell_type": "code",
      "metadata": {
        "id": "ehw3jpM5AinQ",
        "colab_type": "code",
        "colab": {
          "base_uri": "https://localhost:8080/",
          "height": 34
        },
        "outputId": "49a300aa-2da1-4a7d-f080-ba7e72d705ec"
      },
      "source": [
        "import keras\n",
        "from keras.datasets import mnist\n",
        "from keras.models import Model\n",
        "from keras.layers import Input,Dense,TimeDistributed\n",
        "from keras.layers import LSTM"
      ],
      "execution_count": 4,
      "outputs": [
        {
          "output_type": "stream",
          "text": [
            "Using TensorFlow backend.\n"
          ],
          "name": "stderr"
        }
      ]
    },
    {
      "cell_type": "code",
      "metadata": {
        "id": "Jq1Q2LbUBjQS",
        "colab_type": "code",
        "colab": {}
      },
      "source": [
        "#training parameters\n",
        "batch_size = 32\n",
        "num_classes = 10\n",
        "epochs = 5"
      ],
      "execution_count": 0,
      "outputs": []
    },
    {
      "cell_type": "code",
      "metadata": {
        "id": "GyZwzsQxB88M",
        "colab_type": "code",
        "colab": {}
      },
      "source": [
        "#embedding dimensions\n",
        "row_hidden = 128\n",
        "col_hidden = 128"
      ],
      "execution_count": 0,
      "outputs": []
    },
    {
      "cell_type": "code",
      "metadata": {
        "id": "iJOE0DtwCIog",
        "colab_type": "code",
        "colab": {
          "base_uri": "https://localhost:8080/",
          "height": 50
        },
        "outputId": "e0c7f18b-781f-4c6a-ce79-dfd5b9b7d02a"
      },
      "source": [
        "(x_train,y_train),(x_test,y_test) =mnist.load_data()"
      ],
      "execution_count": 7,
      "outputs": [
        {
          "output_type": "stream",
          "text": [
            "Downloading data from https://s3.amazonaws.com/img-datasets/mnist.npz\n",
            "11493376/11490434 [==============================] - 1s 0us/step\n"
          ],
          "name": "stdout"
        }
      ]
    },
    {
      "cell_type": "code",
      "metadata": {
        "id": "uB-CvVKdCiVQ",
        "colab_type": "code",
        "colab": {
          "base_uri": "https://localhost:8080/",
          "height": 67
        },
        "outputId": "9ebbbf07-79a2-46c6-9357-bbe99fa40e4e"
      },
      "source": [
        "x_train = x_train.reshape(x_train.shape[0],28,28,1)\n",
        "x_test = x_test.reshape(x_test.shape[0],28,28,1)\n",
        "x_train = x_train.astype('float32')\n",
        "x_test = x_test.astype('float32')\n",
        "x_train /=255\n",
        "x_test /=255\n",
        "print('x_train shape:',x_train.shape)\n",
        "print(x_train.shape[0], 'train samples')\n",
        "print(x_test.shape[0], 'test samples')"
      ],
      "execution_count": 9,
      "outputs": [
        {
          "output_type": "stream",
          "text": [
            "x_train shape: (60000, 28, 28, 1)\n",
            "60000 train samples\n",
            "10000 test samples\n"
          ],
          "name": "stdout"
        }
      ]
    },
    {
      "cell_type": "code",
      "metadata": {
        "id": "2MLqZAxGVHGK",
        "colab_type": "code",
        "colab": {}
      },
      "source": [
        "#convert class vectors to binary class matrices.\n",
        "y_train = keras.utils.to_categorical(y_train,num_classes)\n",
        "y_test = keras.utils.to_categorical(y_test,num_classes)"
      ],
      "execution_count": 0,
      "outputs": []
    },
    {
      "cell_type": "code",
      "metadata": {
        "id": "Vl9KNLiRXywV",
        "colab_type": "code",
        "colab": {}
      },
      "source": [
        "row, col, pixel = x_train.shape[1:]\n",
        "#4D input\n",
        "x= Input(shape=(row,col,pixel))"
      ],
      "execution_count": 0,
      "outputs": []
    },
    {
      "cell_type": "code",
      "metadata": {
        "id": "N2yU-fjOYUfS",
        "colab_type": "code",
        "colab": {}
      },
      "source": [
        "encoded_rows = TimeDistributed(LSTM(row_hidden))(x)\n",
        "#encodes columns of encoded rows.\n",
        "encoded_columns = LSTM(col_hidden)(encoded_rows)"
      ],
      "execution_count": 0,
      "outputs": []
    },
    {
      "cell_type": "code",
      "metadata": {
        "id": "ouG2NXNmZDi7",
        "colab_type": "code",
        "colab": {}
      },
      "source": [
        "#final predictions and model\n",
        "prediction = Dense(num_classes, activation='softmax')(encoded_columns)\n",
        "model = Model(x,prediction)\n",
        "model.compile(loss = 'categorical_crossentropy',\n",
        "              optimizer='rmsprop',metrics =['accuracy']) "
      ],
      "execution_count": 0,
      "outputs": []
    },
    {
      "cell_type": "code",
      "metadata": {
        "id": "jJS8TLT_aGsi",
        "colab_type": "code",
        "colab": {
          "base_uri": "https://localhost:8080/",
          "height": 218
        },
        "outputId": "db91014b-d121-4e92-bdf0-6e7dea5fc0a3"
      },
      "source": [
        "#training\n",
        "model.fit (x_train, y_train,\n",
        "           batch_size = batch_size,\n",
        "           epochs=epochs,\n",
        "           verbose=1,\n",
        "           validation_data=(x_test,y_test))"
      ],
      "execution_count": 18,
      "outputs": [
        {
          "output_type": "stream",
          "text": [
            "Train on 60000 samples, validate on 10000 samples\n",
            "Epoch 1/5\n",
            "60000/60000 [==============================] - 322s 5ms/step - loss: 0.4385 - accuracy: 0.8538 - val_loss: 0.1233 - val_accuracy: 0.9621\n",
            "Epoch 2/5\n",
            "60000/60000 [==============================] - 319s 5ms/step - loss: 0.1129 - accuracy: 0.9659 - val_loss: 0.0914 - val_accuracy: 0.9713\n",
            "Epoch 3/5\n",
            "60000/60000 [==============================] - 322s 5ms/step - loss: 0.0773 - accuracy: 0.9768 - val_loss: 0.0676 - val_accuracy: 0.9797\n",
            "Epoch 4/5\n",
            "60000/60000 [==============================] - 323s 5ms/step - loss: 0.0616 - accuracy: 0.9805 - val_loss: 0.0618 - val_accuracy: 0.9802\n",
            "Epoch 5/5\n",
            "60000/60000 [==============================] - 317s 5ms/step - loss: 0.0510 - accuracy: 0.9851 - val_loss: 0.0514 - val_accuracy: 0.9847\n"
          ],
          "name": "stdout"
        },
        {
          "output_type": "execute_result",
          "data": {
            "text/plain": [
              "<keras.callbacks.callbacks.History at 0x7ffaa3853fd0>"
            ]
          },
          "metadata": {
            "tags": []
          },
          "execution_count": 18
        }
      ]
    },
    {
      "cell_type": "code",
      "metadata": {
        "id": "D892hMbxhMC2",
        "colab_type": "code",
        "colab": {
          "base_uri": "https://localhost:8080/",
          "height": 50
        },
        "outputId": "d74cc5dd-5b21-4dee-be36-e98cc0a56b51"
      },
      "source": [
        "#evaluation\n",
        "scores = model.evaluate(x_test,y_test,verbose =0)\n",
        "print('test loss:',scores[0])\n",
        "print('test accuracy:',scores[1])\n"
      ],
      "execution_count": 19,
      "outputs": [
        {
          "output_type": "stream",
          "text": [
            "test loss: 0.051351821256568654\n",
            "test accuracy: 0.9847000241279602\n"
          ],
          "name": "stdout"
        }
      ]
    }
  ]
}